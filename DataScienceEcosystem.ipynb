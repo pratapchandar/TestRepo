{
 "cells": [
  {
   "cell_type": "markdown",
   "id": "f95f70be-60da-40c1-b5b3-66d142215cba",
   "metadata": {},
   "source": [
    "<H1>Data Science Tools and Ecosystem\n",
    "</H1>"
   ]
  },
  {
   "cell_type": "markdown",
   "id": "2e65d235-accc-4f60-9e1f-ec683b17ae01",
   "metadata": {},
   "source": [
    "In this notebook, Data Science Tools and Ecosystem are summarized."
   ]
  },
  {
   "cell_type": "markdown",
   "id": "5572fc76-88ad-47ee-86b4-f213c4043680",
   "metadata": {},
   "source": [
    "Some of the popular languages that Data Scientists use are:\n",
    "\n",
    "Objectives: List popular languages for Data Science\n",
    "* Libraries\n",
    "* Languages\n",
    "* Arithmetic operations\n",
    "* Python, R basics"
   ]
  },
  {
   "cell_type": "code",
   "execution_count": 8,
   "id": "24cfe959-02b4-4c24-aaf1-c9ea8efd294c",
   "metadata": {},
   "outputs": [
    {
     "name": "stdout",
     "output_type": "stream",
     "text": [
      "1 Python\n",
      "2 R\n",
      "3 ML\n"
     ]
    }
   ],
   "source": [
    "\n",
    "Languages = [\"Python\", \"R\", \"ML\"]\n",
    "for number, letter in enumerate(Languages, 1):\n",
    "    print(number, letter)"
   ]
  },
  {
   "cell_type": "markdown",
   "id": "10182a42-16c2-4fb0-9841-628940623946",
   "metadata": {},
   "source": [
    "Some of the commonly used libraries used by Data Scientists include:"
   ]
  },
  {
   "cell_type": "code",
   "execution_count": 9,
   "id": "9cec2cf7-2cf4-4ced-826e-55e5387236bc",
   "metadata": {},
   "outputs": [
    {
     "name": "stdout",
     "output_type": "stream",
     "text": [
      "1 numpy\n",
      "2 Matplotlib\n",
      "3 Plotly\n"
     ]
    }
   ],
   "source": [
    "Libraries = [\"numpy\", \"Matplotlib\", \"Plotly\"]\n",
    "for number, letter in enumerate(Libraries, 1):\n",
    "    print(number, letter)"
   ]
  },
  {
   "cell_type": "code",
   "execution_count": 11,
   "id": "0660941b-40da-4424-a109-2738f04f78cf",
   "metadata": {},
   "outputs": [
    {
     "name": "stdout",
     "output_type": "stream",
     "text": [
      "       Name\n",
      "0  Anaconda\n",
      "1   Jupyter\n",
      "2  R Studio\n"
     ]
    }
   ],
   "source": [
    "import pandas as pd\n",
    "\n",
    "DataScience_Tools = {\n",
    "    \"Name\": [\"Anaconda\", \"Jupyter\", \"R Studio\"]\n",
    "}\n",
    "df = pd.DataFrame(DataScience_Tools)\n",
    "\n",
    "print(df)"
   ]
  },
  {
   "cell_type": "markdown",
   "id": "9875c94c-6a37-4f75-9d72-75ca36ee0cd8",
   "metadata": {},
   "source": [
    "<h3>Below are a few examples of evaluating arithmetic expressions in Python</h3>"
   ]
  },
  {
   "cell_type": "code",
   "execution_count": 12,
   "id": "c78186d6-255e-4a5e-889e-4d2d0d49bc0e",
   "metadata": {},
   "outputs": [
    {
     "data": {
      "text/plain": [
       "17"
      ]
     },
     "execution_count": 12,
     "metadata": {},
     "output_type": "execute_result"
    }
   ],
   "source": [
    "# This a simple arithmetic expression to mutiply then add integers\n",
    "(3*4)+5"
   ]
  },
  {
   "cell_type": "code",
   "execution_count": 15,
   "id": "15407b8f-e919-4d3c-b2c9-ced06827067c",
   "metadata": {},
   "outputs": [
    {
     "data": {
      "text/plain": [
       "3.33"
      ]
     },
     "execution_count": 15,
     "metadata": {},
     "output_type": "execute_result"
    }
   ],
   "source": [
    "# This will convert 200 minutes to hours by dividing by 60\n",
    "round(200/60,2)"
   ]
  },
  {
   "cell_type": "markdown",
   "id": "56972710-28e0-499f-a5ec-d6d73a89f911",
   "metadata": {},
   "source": [
    "<h2> Author </h2>\n",
    "Pratapchandar"
   ]
  },
  {
   "cell_type": "code",
   "execution_count": null,
   "id": "836fadea-13b4-4bff-beaa-ee2aa5bb87a6",
   "metadata": {},
   "outputs": [],
   "source": []
  }
 ],
 "metadata": {
  "kernelspec": {
   "display_name": "Python 3 (ipykernel)",
   "language": "python",
   "name": "python3"
  },
  "language_info": {
   "codemirror_mode": {
    "name": "ipython",
    "version": 3
   },
   "file_extension": ".py",
   "mimetype": "text/x-python",
   "name": "python",
   "nbconvert_exporter": "python",
   "pygments_lexer": "ipython3",
   "version": "3.11.7"
  }
 },
 "nbformat": 4,
 "nbformat_minor": 5
}
